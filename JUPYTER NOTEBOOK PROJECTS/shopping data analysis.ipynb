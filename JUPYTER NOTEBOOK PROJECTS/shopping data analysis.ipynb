{
 "cells": [
  {
   "cell_type": "code",
   "execution_count": 1,
   "id": "39c58960",
   "metadata": {},
   "outputs": [],
   "source": [
    "import pandas as pd\n",
    "import matplotlib as plt"
   ]
  },
  {
   "cell_type": "code",
   "execution_count": 2,
   "id": "4dcac058",
   "metadata": {},
   "outputs": [
    {
     "data": {
      "text/html": [
       "<div>\n",
       "<style scoped>\n",
       "    .dataframe tbody tr th:only-of-type {\n",
       "        vertical-align: middle;\n",
       "    }\n",
       "\n",
       "    .dataframe tbody tr th {\n",
       "        vertical-align: top;\n",
       "    }\n",
       "\n",
       "    .dataframe thead th {\n",
       "        text-align: right;\n",
       "    }\n",
       "</style>\n",
       "<table border=\"1\" class=\"dataframe\">\n",
       "  <thead>\n",
       "    <tr style=\"text-align: right;\">\n",
       "      <th></th>\n",
       "      <th>Question</th>\n",
       "      <th>Segment Type</th>\n",
       "      <th>Segment Description</th>\n",
       "      <th>Answer</th>\n",
       "      <th>Count</th>\n",
       "      <th>Percentage</th>\n",
       "    </tr>\n",
       "  </thead>\n",
       "  <tbody>\n",
       "    <tr>\n",
       "      <th>0</th>\n",
       "      <td>What social platform has influenced your onlin...</td>\n",
       "      <td>Mobile</td>\n",
       "      <td>Global results</td>\n",
       "      <td>Facebook</td>\n",
       "      <td>548</td>\n",
       "      <td>0.205</td>\n",
       "    </tr>\n",
       "    <tr>\n",
       "      <th>1</th>\n",
       "      <td>What social platform has influenced your onlin...</td>\n",
       "      <td>Mobile</td>\n",
       "      <td>Global results</td>\n",
       "      <td>Instagram</td>\n",
       "      <td>916</td>\n",
       "      <td>0.342</td>\n",
       "    </tr>\n",
       "  </tbody>\n",
       "</table>\n",
       "</div>"
      ],
      "text/plain": [
       "                                            Question Segment Type  \\\n",
       "0  What social platform has influenced your onlin...       Mobile   \n",
       "1  What social platform has influenced your onlin...       Mobile   \n",
       "\n",
       "  Segment Description     Answer  Count  Percentage  \n",
       "0      Global results   Facebook    548       0.205  \n",
       "1      Global results  Instagram    916       0.342  "
      ]
     },
     "execution_count": 2,
     "metadata": {},
     "output_type": "execute_result"
    }
   ],
   "source": [
    "df=pd.read_csv(\"shopping.csv\")\n",
    "df.head(2)"
   ]
  },
  {
   "cell_type": "markdown",
   "id": "3b144466",
   "metadata": {},
   "source": [
    "## TOTAL NO OF ROWS AND COLUMNS"
   ]
  },
  {
   "cell_type": "code",
   "execution_count": 3,
   "id": "bdc7018e",
   "metadata": {},
   "outputs": [
    {
     "data": {
      "text/plain": [
       "(1450, 6)"
      ]
     },
     "execution_count": 3,
     "metadata": {},
     "output_type": "execute_result"
    }
   ],
   "source": [
    "df.shape"
   ]
  },
  {
   "cell_type": "markdown",
   "id": "4a4f7cc9",
   "metadata": {},
   "source": [
    "## COLUMNS "
   ]
  },
  {
   "cell_type": "code",
   "execution_count": 4,
   "id": "06b48f47",
   "metadata": {},
   "outputs": [
    {
     "data": {
      "text/plain": [
       "Index(['Question', 'Segment Type', 'Segment Description', 'Answer', 'Count',\n",
       "       'Percentage'],\n",
       "      dtype='object')"
      ]
     },
     "execution_count": 4,
     "metadata": {},
     "output_type": "execute_result"
    }
   ],
   "source": [
    "df.columns"
   ]
  },
  {
   "cell_type": "markdown",
   "id": "a7bf93e2",
   "metadata": {},
   "source": [
    "## DATA TYPE FOR EACH COLUMN"
   ]
  },
  {
   "cell_type": "code",
   "execution_count": 5,
   "id": "408fcb96",
   "metadata": {},
   "outputs": [
    {
     "data": {
      "text/plain": [
       "Question                object\n",
       "Segment Type            object\n",
       "Segment Description     object\n",
       "Answer                  object\n",
       "Count                    int64\n",
       "Percentage             float64\n",
       "dtype: object"
      ]
     },
     "execution_count": 5,
     "metadata": {},
     "output_type": "execute_result"
    }
   ],
   "source": [
    "df.dtypes"
   ]
  },
  {
   "cell_type": "markdown",
   "id": "954411bd",
   "metadata": {},
   "source": [
    "## FINDING NULL VALUES"
   ]
  },
  {
   "cell_type": "code",
   "execution_count": 6,
   "id": "4931bf82",
   "metadata": {},
   "outputs": [
    {
     "data": {
      "text/plain": [
       "Question               0\n",
       "Segment Type           0\n",
       "Segment Description    0\n",
       "Answer                 0\n",
       "Count                  0\n",
       "Percentage             0\n",
       "dtype: int64"
      ]
     },
     "execution_count": 6,
     "metadata": {},
     "output_type": "execute_result"
    }
   ],
   "source": [
    "df.isnull().sum()"
   ]
  },
  {
   "cell_type": "code",
   "execution_count": 7,
   "id": "1470f118",
   "metadata": {},
   "outputs": [
    {
     "data": {
      "text/html": [
       "<div>\n",
       "<style scoped>\n",
       "    .dataframe tbody tr th:only-of-type {\n",
       "        vertical-align: middle;\n",
       "    }\n",
       "\n",
       "    .dataframe tbody tr th {\n",
       "        vertical-align: top;\n",
       "    }\n",
       "\n",
       "    .dataframe thead th {\n",
       "        text-align: right;\n",
       "    }\n",
       "</style>\n",
       "<table border=\"1\" class=\"dataframe\">\n",
       "  <thead>\n",
       "    <tr style=\"text-align: right;\">\n",
       "      <th></th>\n",
       "      <th>Question</th>\n",
       "      <th>Segment Type</th>\n",
       "      <th>Segment Description</th>\n",
       "      <th>Answer</th>\n",
       "      <th>Count</th>\n",
       "      <th>Percentage</th>\n",
       "    </tr>\n",
       "  </thead>\n",
       "  <tbody>\n",
       "    <tr>\n",
       "      <th>0</th>\n",
       "      <td>What social platform has influenced your onlin...</td>\n",
       "      <td>Mobile</td>\n",
       "      <td>Global results</td>\n",
       "      <td>Facebook</td>\n",
       "      <td>548</td>\n",
       "      <td>0.205</td>\n",
       "    </tr>\n",
       "    <tr>\n",
       "      <th>1</th>\n",
       "      <td>What social platform has influenced your onlin...</td>\n",
       "      <td>Mobile</td>\n",
       "      <td>Global results</td>\n",
       "      <td>Instagram</td>\n",
       "      <td>916</td>\n",
       "      <td>0.342</td>\n",
       "    </tr>\n",
       "  </tbody>\n",
       "</table>\n",
       "</div>"
      ],
      "text/plain": [
       "                                            Question Segment Type  \\\n",
       "0  What social platform has influenced your onlin...       Mobile   \n",
       "1  What social platform has influenced your onlin...       Mobile   \n",
       "\n",
       "  Segment Description     Answer  Count  Percentage  \n",
       "0      Global results   Facebook    548       0.205  \n",
       "1      Global results  Instagram    916       0.342  "
      ]
     },
     "execution_count": 7,
     "metadata": {},
     "output_type": "execute_result"
    }
   ],
   "source": [
    "df.head(2)"
   ]
  },
  {
   "cell_type": "markdown",
   "id": "601cbb58",
   "metadata": {},
   "source": [
    "## TOTAL NO OF RECORDS FOR EACH SEGMENT TYPE"
   ]
  },
  {
   "cell_type": "code",
   "execution_count": 8,
   "id": "52d16199",
   "metadata": {},
   "outputs": [
    {
     "data": {
      "text/plain": [
       "University    870\n",
       "Custom        560\n",
       "Gender         10\n",
       "Mobile          5\n",
       "Web             5\n",
       "Name: Segment Type, dtype: int64"
      ]
     },
     "execution_count": 8,
     "metadata": {},
     "output_type": "execute_result"
    }
   ],
   "source": [
    "st=df['Segment Type'].value_counts()\n",
    "st"
   ]
  },
  {
   "cell_type": "code",
   "execution_count": 23,
   "id": "79c4fcd6",
   "metadata": {},
   "outputs": [
    {
     "data": {
      "text/plain": [
       "<AxesSubplot:>"
      ]
     },
     "execution_count": 23,
     "metadata": {},
     "output_type": "execute_result"
    },
    {
     "data": {
      "image/png": "[encoded data removed]",
      "text/plain": [
       "<Figure size 432x288 with 1 Axes>"
      ]
     },
     "metadata": {
      "needs_background": "light"
     },
     "output_type": "display_data"
    }
   ],
   "source": [
    "st.plot(kind=\"line\", color=\"red\", linewidth='5')"
   ]
  },
  {
   "cell_type": "code",
   "execution_count": 10,
   "id": "ffdc4dd8",
   "metadata": {},
   "outputs": [
    {
     "data": {
      "text/html": [
       "<div>\n",
       "<style scoped>\n",
       "    .dataframe tbody tr th:only-of-type {\n",
       "        vertical-align: middle;\n",
       "    }\n",
       "\n",
       "    .dataframe tbody tr th {\n",
       "        vertical-align: top;\n",
       "    }\n",
       "\n",
       "    .dataframe thead th {\n",
       "        text-align: right;\n",
       "    }\n",
       "</style>\n",
       "<table border=\"1\" class=\"dataframe\">\n",
       "  <thead>\n",
       "    <tr style=\"text-align: right;\">\n",
       "      <th></th>\n",
       "      <th>Question</th>\n",
       "      <th>Segment Type</th>\n",
       "      <th>Segment Description</th>\n",
       "      <th>Answer</th>\n",
       "      <th>Count</th>\n",
       "      <th>Percentage</th>\n",
       "    </tr>\n",
       "  </thead>\n",
       "  <tbody>\n",
       "    <tr>\n",
       "      <th>0</th>\n",
       "      <td>What social platform has influenced your onlin...</td>\n",
       "      <td>Mobile</td>\n",
       "      <td>Global results</td>\n",
       "      <td>Facebook</td>\n",
       "      <td>548</td>\n",
       "      <td>0.205</td>\n",
       "    </tr>\n",
       "    <tr>\n",
       "      <th>1</th>\n",
       "      <td>What social platform has influenced your onlin...</td>\n",
       "      <td>Mobile</td>\n",
       "      <td>Global results</td>\n",
       "      <td>Instagram</td>\n",
       "      <td>916</td>\n",
       "      <td>0.342</td>\n",
       "    </tr>\n",
       "  </tbody>\n",
       "</table>\n",
       "</div>"
      ],
      "text/plain": [
       "                                            Question Segment Type  \\\n",
       "0  What social platform has influenced your onlin...       Mobile   \n",
       "1  What social platform has influenced your onlin...       Mobile   \n",
       "\n",
       "  Segment Description     Answer  Count  Percentage  \n",
       "0      Global results   Facebook    548       0.205  \n",
       "1      Global results  Instagram    916       0.342  "
      ]
     },
     "execution_count": 10,
     "metadata": {},
     "output_type": "execute_result"
    }
   ],
   "source": [
    "df.head(2)"
   ]
  },
  {
   "cell_type": "markdown",
   "id": "d4a96085",
   "metadata": {},
   "source": [
    "## NO OF RECORDS FOR EACH VALUE OF ANSWER COLUMN "
   ]
  },
  {
   "cell_type": "code",
   "execution_count": 11,
   "id": "b4e0f6d1",
   "metadata": {},
   "outputs": [
    {
     "data": {
      "text/plain": [
       "Facebook     290\n",
       "Instagram    290\n",
       "Snapchat     290\n",
       "Twitter      290\n",
       "None         290\n",
       "Name: Answer, dtype: int64"
      ]
     },
     "execution_count": 11,
     "metadata": {},
     "output_type": "execute_result"
    }
   ],
   "source": [
    "a=df['Answer'].value_counts()\n",
    "a"
   ]
  },
  {
   "cell_type": "code",
   "execution_count": 12,
   "id": "84fdfe1a",
   "metadata": {},
   "outputs": [
    {
     "data": {
      "text/plain": [
       "<AxesSubplot:>"
      ]
     },
     "execution_count": 12,
     "metadata": {},
     "output_type": "execute_result"
    },
    {
     "data": {
      "image/png": "[encoded data removed]",
      "text/plain": [
       "<Figure size 432x288 with 1 Axes>"
      ]
     },
     "metadata": {
      "needs_background": "light"
     },
     "output_type": "display_data"
    }
   ],
   "source": [
    "a.plot(kind=\"bar\",color=['red','yellow','green','blue',\"violet\"])"
   ]
  },
  {
   "cell_type": "markdown",
   "id": "d192e21a",
   "metadata": {},
   "source": [
    "##  ALL THE SEGMENT DESCRIPTION WHERE COUNT IS GREATER THAN 500"
   ]
  },
  {
   "cell_type": "code",
   "execution_count": 13,
   "id": "307318a3",
   "metadata": {},
   "outputs": [
    {
     "data": {
      "text/html": [
       "<div>\n",
       "<style scoped>\n",
       "    .dataframe tbody tr th:only-of-type {\n",
       "        vertical-align: middle;\n",
       "    }\n",
       "\n",
       "    .dataframe tbody tr th {\n",
       "        vertical-align: top;\n",
       "    }\n",
       "\n",
       "    .dataframe thead th {\n",
       "        text-align: right;\n",
       "    }\n",
       "</style>\n",
       "<table border=\"1\" class=\"dataframe\">\n",
       "  <thead>\n",
       "    <tr style=\"text-align: right;\">\n",
       "      <th></th>\n",
       "      <th>Question</th>\n",
       "      <th>Segment Type</th>\n",
       "      <th>Segment Description</th>\n",
       "      <th>Answer</th>\n",
       "      <th>Count</th>\n",
       "      <th>Percentage</th>\n",
       "    </tr>\n",
       "  </thead>\n",
       "  <tbody>\n",
       "    <tr>\n",
       "      <th>0</th>\n",
       "      <td>What social platform has influenced your onlin...</td>\n",
       "      <td>Mobile</td>\n",
       "      <td>Global results</td>\n",
       "      <td>Facebook</td>\n",
       "      <td>548</td>\n",
       "      <td>0.205</td>\n",
       "    </tr>\n",
       "    <tr>\n",
       "      <th>1</th>\n",
       "      <td>What social platform has influenced your onlin...</td>\n",
       "      <td>Mobile</td>\n",
       "      <td>Global results</td>\n",
       "      <td>Instagram</td>\n",
       "      <td>916</td>\n",
       "      <td>0.342</td>\n",
       "    </tr>\n",
       "    <tr>\n",
       "      <th>4</th>\n",
       "      <td>What social platform has influenced your onlin...</td>\n",
       "      <td>Mobile</td>\n",
       "      <td>Global results</td>\n",
       "      <td>None</td>\n",
       "      <td>947</td>\n",
       "      <td>0.354</td>\n",
       "    </tr>\n",
       "    <tr>\n",
       "      <th>11</th>\n",
       "      <td>What social platform has influenced your onlin...</td>\n",
       "      <td>Gender</td>\n",
       "      <td>Female voters</td>\n",
       "      <td>Instagram</td>\n",
       "      <td>535</td>\n",
       "      <td>0.480</td>\n",
       "    </tr>\n",
       "    <tr>\n",
       "      <th>19</th>\n",
       "      <td>What social platform has influenced your onlin...</td>\n",
       "      <td>Gender</td>\n",
       "      <td>Male voters</td>\n",
       "      <td>None</td>\n",
       "      <td>678</td>\n",
       "      <td>0.434</td>\n",
       "    </tr>\n",
       "    <tr>\n",
       "      <th>1016</th>\n",
       "      <td>What social platform has influenced your onlin...</td>\n",
       "      <td>Custom</td>\n",
       "      <td>student loan debt? No</td>\n",
       "      <td>Instagram</td>\n",
       "      <td>504</td>\n",
       "      <td>0.330</td>\n",
       "    </tr>\n",
       "    <tr>\n",
       "      <th>1019</th>\n",
       "      <td>What social platform has influenced your onlin...</td>\n",
       "      <td>Custom</td>\n",
       "      <td>student loan debt? No</td>\n",
       "      <td>None</td>\n",
       "      <td>552</td>\n",
       "      <td>0.361</td>\n",
       "    </tr>\n",
       "    <tr>\n",
       "      <th>1026</th>\n",
       "      <td>What social platform has influenced your onlin...</td>\n",
       "      <td>Custom</td>\n",
       "      <td>you a virgin? No</td>\n",
       "      <td>Instagram</td>\n",
       "      <td>579</td>\n",
       "      <td>0.341</td>\n",
       "    </tr>\n",
       "    <tr>\n",
       "      <th>1029</th>\n",
       "      <td>What social platform has influenced your onlin...</td>\n",
       "      <td>Custom</td>\n",
       "      <td>you a virgin? No</td>\n",
       "      <td>None</td>\n",
       "      <td>596</td>\n",
       "      <td>0.351</td>\n",
       "    </tr>\n",
       "    <tr>\n",
       "      <th>1206</th>\n",
       "      <td>What social platform has influenced your onlin...</td>\n",
       "      <td>Custom</td>\n",
       "      <td>What's your GPA? 3.0 to 4.0</td>\n",
       "      <td>Instagram</td>\n",
       "      <td>502</td>\n",
       "      <td>0.321</td>\n",
       "    </tr>\n",
       "    <tr>\n",
       "      <th>1209</th>\n",
       "      <td>What social platform has influenced your onlin...</td>\n",
       "      <td>Custom</td>\n",
       "      <td>What's your GPA? 3.0 to 4.0</td>\n",
       "      <td>None</td>\n",
       "      <td>571</td>\n",
       "      <td>0.365</td>\n",
       "    </tr>\n",
       "    <tr>\n",
       "      <th>1231</th>\n",
       "      <td>What social platform has influenced your onlin...</td>\n",
       "      <td>Custom</td>\n",
       "      <td>Mac or PC? Mac 🖥</td>\n",
       "      <td>Instagram</td>\n",
       "      <td>546</td>\n",
       "      <td>0.375</td>\n",
       "    </tr>\n",
       "    <tr>\n",
       "      <th>1339</th>\n",
       "      <td>What social platform has influenced your onlin...</td>\n",
       "      <td>Custom</td>\n",
       "      <td>clubs / organizations? No</td>\n",
       "      <td>None</td>\n",
       "      <td>574</td>\n",
       "      <td>0.372</td>\n",
       "    </tr>\n",
       "    <tr>\n",
       "      <th>1386</th>\n",
       "      <td>What social platform has influenced your onlin...</td>\n",
       "      <td>Custom</td>\n",
       "      <td>I'm in? College</td>\n",
       "      <td>Instagram</td>\n",
       "      <td>781</td>\n",
       "      <td>0.336</td>\n",
       "    </tr>\n",
       "    <tr>\n",
       "      <th>1389</th>\n",
       "      <td>What social platform has influenced your onlin...</td>\n",
       "      <td>Custom</td>\n",
       "      <td>I'm in? College</td>\n",
       "      <td>None</td>\n",
       "      <td>820</td>\n",
       "      <td>0.353</td>\n",
       "    </tr>\n",
       "    <tr>\n",
       "      <th>1444</th>\n",
       "      <td>What social platform has influenced your onlin...</td>\n",
       "      <td>Custom</td>\n",
       "      <td>closely identify as? White</td>\n",
       "      <td>None</td>\n",
       "      <td>573</td>\n",
       "      <td>0.365</td>\n",
       "    </tr>\n",
       "  </tbody>\n",
       "</table>\n",
       "</div>"
      ],
      "text/plain": [
       "                                               Question Segment Type  \\\n",
       "0     What social platform has influenced your onlin...       Mobile   \n",
       "1     What social platform has influenced your onlin...       Mobile   \n",
       "4     What social platform has influenced your onlin...       Mobile   \n",
       "11    What social platform has influenced your onlin...       Gender   \n",
       "19    What social platform has influenced your onlin...       Gender   \n",
       "1016  What social platform has influenced your onlin...       Custom   \n",
       "1019  What social platform has influenced your onlin...       Custom   \n",
       "1026  What social platform has influenced your onlin...       Custom   \n",
       "1029  What social platform has influenced your onlin...       Custom   \n",
       "1206  What social platform has influenced your onlin...       Custom   \n",
       "1209  What social platform has influenced your onlin...       Custom   \n",
       "1231  What social platform has influenced your onlin...       Custom   \n",
       "1339  What social platform has influenced your onlin...       Custom   \n",
       "1386  What social platform has influenced your onlin...       Custom   \n",
       "1389  What social platform has influenced your onlin...       Custom   \n",
       "1444  What social platform has influenced your onlin...       Custom   \n",
       "\n",
       "              Segment Description     Answer  Count  Percentage  \n",
       "0                  Global results   Facebook    548       0.205  \n",
       "1                  Global results  Instagram    916       0.342  \n",
       "4                  Global results       None    947       0.354  \n",
       "11                  Female voters  Instagram    535       0.480  \n",
       "19                    Male voters       None    678       0.434  \n",
       "1016        student loan debt? No  Instagram    504       0.330  \n",
       "1019        student loan debt? No       None    552       0.361  \n",
       "1026             you a virgin? No  Instagram    579       0.341  \n",
       "1029             you a virgin? No       None    596       0.351  \n",
       "1206  What's your GPA? 3.0 to 4.0  Instagram    502       0.321  \n",
       "1209  What's your GPA? 3.0 to 4.0       None    571       0.365  \n",
       "1231             Mac or PC? Mac 🖥  Instagram    546       0.375  \n",
       "1339    clubs / organizations? No       None    574       0.372  \n",
       "1386              I'm in? College  Instagram    781       0.336  \n",
       "1389              I'm in? College       None    820       0.353  \n",
       "1444   closely identify as? White       None    573       0.365  "
      ]
     },
     "execution_count": 13,
     "metadata": {},
     "output_type": "execute_result"
    }
   ],
   "source": [
    "df[df['Count']>500]"
   ]
  },
  {
   "cell_type": "markdown",
   "id": "ae7e43de",
   "metadata": {},
   "source": [
    "##  ALL THE RECORDS WHERE ANSWER IS NONE      \n",
    "                                 \n"
   ]
  },
  {
   "cell_type": "code",
   "execution_count": 14,
   "id": "a2e49550",
   "metadata": {},
   "outputs": [
    {
     "data": {
      "text/html": [
       "<div>\n",
       "<style scoped>\n",
       "    .dataframe tbody tr th:only-of-type {\n",
       "        vertical-align: middle;\n",
       "    }\n",
       "\n",
       "    .dataframe tbody tr th {\n",
       "        vertical-align: top;\n",
       "    }\n",
       "\n",
       "    .dataframe thead th {\n",
       "        text-align: right;\n",
       "    }\n",
       "</style>\n",
       "<table border=\"1\" class=\"dataframe\">\n",
       "  <thead>\n",
       "    <tr style=\"text-align: right;\">\n",
       "      <th></th>\n",
       "      <th>Question</th>\n",
       "      <th>Segment Type</th>\n",
       "      <th>Segment Description</th>\n",
       "      <th>Answer</th>\n",
       "      <th>Count</th>\n",
       "      <th>Percentage</th>\n",
       "    </tr>\n",
       "  </thead>\n",
       "  <tbody>\n",
       "    <tr>\n",
       "      <th>4</th>\n",
       "      <td>What social platform has influenced your onlin...</td>\n",
       "      <td>Mobile</td>\n",
       "      <td>Global results</td>\n",
       "      <td>None</td>\n",
       "      <td>947</td>\n",
       "      <td>0.354</td>\n",
       "    </tr>\n",
       "    <tr>\n",
       "      <th>9</th>\n",
       "      <td>What social platform has influenced your onlin...</td>\n",
       "      <td>Web</td>\n",
       "      <td>Web</td>\n",
       "      <td>None</td>\n",
       "      <td>2</td>\n",
       "      <td>1.000</td>\n",
       "    </tr>\n",
       "    <tr>\n",
       "      <th>14</th>\n",
       "      <td>What social platform has influenced your onlin...</td>\n",
       "      <td>Gender</td>\n",
       "      <td>Female voters</td>\n",
       "      <td>None</td>\n",
       "      <td>271</td>\n",
       "      <td>0.243</td>\n",
       "    </tr>\n",
       "    <tr>\n",
       "      <th>19</th>\n",
       "      <td>What social platform has influenced your onlin...</td>\n",
       "      <td>Gender</td>\n",
       "      <td>Male voters</td>\n",
       "      <td>None</td>\n",
       "      <td>678</td>\n",
       "      <td>0.434</td>\n",
       "    </tr>\n",
       "    <tr>\n",
       "      <th>24</th>\n",
       "      <td>What social platform has influenced your onlin...</td>\n",
       "      <td>University</td>\n",
       "      <td>University of Delaware</td>\n",
       "      <td>None</td>\n",
       "      <td>1</td>\n",
       "      <td>0.333</td>\n",
       "    </tr>\n",
       "    <tr>\n",
       "      <th>...</th>\n",
       "      <td>...</td>\n",
       "      <td>...</td>\n",
       "      <td>...</td>\n",
       "      <td>...</td>\n",
       "      <td>...</td>\n",
       "      <td>...</td>\n",
       "    </tr>\n",
       "    <tr>\n",
       "      <th>1429</th>\n",
       "      <td>What social platform has influenced your onlin...</td>\n",
       "      <td>Custom</td>\n",
       "      <td>What's your GPA? Above 4.0 😏</td>\n",
       "      <td>None</td>\n",
       "      <td>56</td>\n",
       "      <td>0.386</td>\n",
       "    </tr>\n",
       "    <tr>\n",
       "      <th>1434</th>\n",
       "      <td>What social platform has influenced your onlin...</td>\n",
       "      <td>Custom</td>\n",
       "      <td>Graduation Year 2019</td>\n",
       "      <td>None</td>\n",
       "      <td>262</td>\n",
       "      <td>0.310</td>\n",
       "    </tr>\n",
       "    <tr>\n",
       "      <th>1439</th>\n",
       "      <td>What social platform has influenced your onlin...</td>\n",
       "      <td>Custom</td>\n",
       "      <td>Graduation Year 2020</td>\n",
       "      <td>None</td>\n",
       "      <td>191</td>\n",
       "      <td>0.400</td>\n",
       "    </tr>\n",
       "    <tr>\n",
       "      <th>1444</th>\n",
       "      <td>What social platform has influenced your onlin...</td>\n",
       "      <td>Custom</td>\n",
       "      <td>closely identify as? White</td>\n",
       "      <td>None</td>\n",
       "      <td>573</td>\n",
       "      <td>0.365</td>\n",
       "    </tr>\n",
       "    <tr>\n",
       "      <th>1449</th>\n",
       "      <td>What social platform has influenced your onlin...</td>\n",
       "      <td>Custom</td>\n",
       "      <td>Sexual orientation? Straight</td>\n",
       "      <td>None</td>\n",
       "      <td>492</td>\n",
       "      <td>0.412</td>\n",
       "    </tr>\n",
       "  </tbody>\n",
       "</table>\n",
       "<p>290 rows × 6 columns</p>\n",
       "</div>"
      ],
      "text/plain": [
       "                                               Question Segment Type  \\\n",
       "4     What social platform has influenced your onlin...       Mobile   \n",
       "9     What social platform has influenced your onlin...          Web   \n",
       "14    What social platform has influenced your onlin...       Gender   \n",
       "19    What social platform has influenced your onlin...       Gender   \n",
       "24    What social platform has influenced your onlin...   University   \n",
       "...                                                 ...          ...   \n",
       "1429  What social platform has influenced your onlin...       Custom   \n",
       "1434  What social platform has influenced your onlin...       Custom   \n",
       "1439  What social platform has influenced your onlin...       Custom   \n",
       "1444  What social platform has influenced your onlin...       Custom   \n",
       "1449  What social platform has influenced your onlin...       Custom   \n",
       "\n",
       "               Segment Description Answer  Count  Percentage  \n",
       "4                   Global results   None    947       0.354  \n",
       "9                              Web   None      2       1.000  \n",
       "14                   Female voters   None    271       0.243  \n",
       "19                     Male voters   None    678       0.434  \n",
       "24          University of Delaware   None      1       0.333  \n",
       "...                            ...    ...    ...         ...  \n",
       "1429  What's your GPA? Above 4.0 😏   None     56       0.386  \n",
       "1434          Graduation Year 2019   None    262       0.310  \n",
       "1439          Graduation Year 2020   None    191       0.400  \n",
       "1444    closely identify as? White   None    573       0.365  \n",
       "1449  Sexual orientation? Straight   None    492       0.412  \n",
       "\n",
       "[290 rows x 6 columns]"
      ]
     },
     "execution_count": 14,
     "metadata": {},
     "output_type": "execute_result"
    }
   ],
   "source": [
    "df.groupby(\"Answer\").get_group(\"None\")"
   ]
  },
  {
   "cell_type": "markdown",
   "id": "4aa6f21c",
   "metadata": {},
   "source": [
    "##  THE MEAN VALUE OF COUNT "
   ]
  },
  {
   "cell_type": "code",
   "execution_count": 15,
   "id": "e01f69c1",
   "metadata": {},
   "outputs": [
    {
     "data": {
      "text/plain": [
       "35.01379310344828"
      ]
     },
     "execution_count": 15,
     "metadata": {},
     "output_type": "execute_result"
    }
   ],
   "source": [
    "df.Count.mean()"
   ]
  },
  {
   "cell_type": "markdown",
   "id": "0fdbc503",
   "metadata": {},
   "source": [
    "##  ALL THE INSTANCES OF FEMALE VOTERS"
   ]
  },
  {
   "cell_type": "code",
   "execution_count": 104,
   "id": "2e1bded1",
   "metadata": {},
   "outputs": [
    {
     "data": {
      "text/html": [
       "<div>\n",
       "<style scoped>\n",
       "    .dataframe tbody tr th:only-of-type {\n",
       "        vertical-align: middle;\n",
       "    }\n",
       "\n",
       "    .dataframe tbody tr th {\n",
       "        vertical-align: top;\n",
       "    }\n",
       "\n",
       "    .dataframe thead th {\n",
       "        text-align: right;\n",
       "    }\n",
       "</style>\n",
       "<table border=\"1\" class=\"dataframe\">\n",
       "  <thead>\n",
       "    <tr style=\"text-align: right;\">\n",
       "      <th></th>\n",
       "      <th>Question</th>\n",
       "      <th>Segment Type</th>\n",
       "      <th>Segment Description</th>\n",
       "      <th>Answer</th>\n",
       "      <th>Count</th>\n",
       "      <th>Percentage</th>\n",
       "    </tr>\n",
       "  </thead>\n",
       "  <tbody>\n",
       "    <tr>\n",
       "      <th>10</th>\n",
       "      <td>What social platform has influenced your onlin...</td>\n",
       "      <td>Gender</td>\n",
       "      <td>Female voters</td>\n",
       "      <td>Facebook</td>\n",
       "      <td>222</td>\n",
       "      <td>0.199</td>\n",
       "    </tr>\n",
       "    <tr>\n",
       "      <th>11</th>\n",
       "      <td>What social platform has influenced your onlin...</td>\n",
       "      <td>Gender</td>\n",
       "      <td>Female voters</td>\n",
       "      <td>Instagram</td>\n",
       "      <td>535</td>\n",
       "      <td>0.480</td>\n",
       "    </tr>\n",
       "    <tr>\n",
       "      <th>12</th>\n",
       "      <td>What social platform has influenced your onlin...</td>\n",
       "      <td>Gender</td>\n",
       "      <td>Female voters</td>\n",
       "      <td>Snapchat</td>\n",
       "      <td>29</td>\n",
       "      <td>0.026</td>\n",
       "    </tr>\n",
       "    <tr>\n",
       "      <th>13</th>\n",
       "      <td>What social platform has influenced your onlin...</td>\n",
       "      <td>Gender</td>\n",
       "      <td>Female voters</td>\n",
       "      <td>Twitter</td>\n",
       "      <td>57</td>\n",
       "      <td>0.051</td>\n",
       "    </tr>\n",
       "    <tr>\n",
       "      <th>14</th>\n",
       "      <td>What social platform has influenced your onlin...</td>\n",
       "      <td>Gender</td>\n",
       "      <td>Female voters</td>\n",
       "      <td>None</td>\n",
       "      <td>271</td>\n",
       "      <td>0.243</td>\n",
       "    </tr>\n",
       "  </tbody>\n",
       "</table>\n",
       "</div>"
      ],
      "text/plain": [
       "                                             Question Segment Type  \\\n",
       "10  What social platform has influenced your onlin...       Gender   \n",
       "11  What social platform has influenced your onlin...       Gender   \n",
       "12  What social platform has influenced your onlin...       Gender   \n",
       "13  What social platform has influenced your onlin...       Gender   \n",
       "14  What social platform has influenced your onlin...       Gender   \n",
       "\n",
       "   Segment Description     Answer  Count  Percentage  \n",
       "10       Female voters   Facebook    222       0.199  \n",
       "11       Female voters  Instagram    535       0.480  \n",
       "12       Female voters   Snapchat     29       0.026  \n",
       "13       Female voters    Twitter     57       0.051  \n",
       "14       Female voters       None    271       0.243  "
      ]
     },
     "execution_count": 104,
     "metadata": {},
     "output_type": "execute_result"
    }
   ],
   "source": [
    "df[df[\"Segment Description\"]==\"Female voters\"]"
   ]
  },
  {
   "cell_type": "code",
   "execution_count": 17,
   "id": "1afc02f7",
   "metadata": {},
   "outputs": [
    {
     "data": {
      "text/html": [
       "<div>\n",
       "<style scoped>\n",
       "    .dataframe tbody tr th:only-of-type {\n",
       "        vertical-align: middle;\n",
       "    }\n",
       "\n",
       "    .dataframe tbody tr th {\n",
       "        vertical-align: top;\n",
       "    }\n",
       "\n",
       "    .dataframe thead th {\n",
       "        text-align: right;\n",
       "    }\n",
       "</style>\n",
       "<table border=\"1\" class=\"dataframe\">\n",
       "  <thead>\n",
       "    <tr style=\"text-align: right;\">\n",
       "      <th></th>\n",
       "      <th>Question</th>\n",
       "      <th>Segment Type</th>\n",
       "      <th>Segment Description</th>\n",
       "      <th>Answer</th>\n",
       "      <th>Count</th>\n",
       "      <th>Percentage</th>\n",
       "    </tr>\n",
       "  </thead>\n",
       "  <tbody>\n",
       "    <tr>\n",
       "      <th>0</th>\n",
       "      <td>What social platform has influenced your onlin...</td>\n",
       "      <td>Mobile</td>\n",
       "      <td>Global results</td>\n",
       "      <td>Facebook</td>\n",
       "      <td>548</td>\n",
       "      <td>0.205</td>\n",
       "    </tr>\n",
       "    <tr>\n",
       "      <th>1</th>\n",
       "      <td>What social platform has influenced your onlin...</td>\n",
       "      <td>Mobile</td>\n",
       "      <td>Global results</td>\n",
       "      <td>Instagram</td>\n",
       "      <td>916</td>\n",
       "      <td>0.342</td>\n",
       "    </tr>\n",
       "  </tbody>\n",
       "</table>\n",
       "</div>"
      ],
      "text/plain": [
       "                                            Question Segment Type  \\\n",
       "0  What social platform has influenced your onlin...       Mobile   \n",
       "1  What social platform has influenced your onlin...       Mobile   \n",
       "\n",
       "  Segment Description     Answer  Count  Percentage  \n",
       "0      Global results   Facebook    548       0.205  \n",
       "1      Global results  Instagram    916       0.342  "
      ]
     },
     "execution_count": 17,
     "metadata": {},
     "output_type": "execute_result"
    }
   ],
   "source": [
    "df.head(2)"
   ]
  },
  {
   "cell_type": "code",
   "execution_count": 18,
   "id": "9d41ce29",
   "metadata": {},
   "outputs": [
    {
     "data": {
      "text/plain": [
       "289.004"
      ]
     },
     "execution_count": 18,
     "metadata": {},
     "output_type": "execute_result"
    }
   ],
   "source": [
    "df.Percentage.sum()"
   ]
  },
  {
   "cell_type": "markdown",
   "id": "006b01ec",
   "metadata": {},
   "source": [
    "## ALL THE INSTANCES OF UNIVERSITY  "
   ]
  },
  {
   "cell_type": "code",
   "execution_count": 19,
   "id": "3de37810",
   "metadata": {},
   "outputs": [
    {
     "data": {
      "text/html": [
       "<div>\n",
       "<style scoped>\n",
       "    .dataframe tbody tr th:only-of-type {\n",
       "        vertical-align: middle;\n",
       "    }\n",
       "\n",
       "    .dataframe tbody tr th {\n",
       "        vertical-align: top;\n",
       "    }\n",
       "\n",
       "    .dataframe thead th {\n",
       "        text-align: right;\n",
       "    }\n",
       "</style>\n",
       "<table border=\"1\" class=\"dataframe\">\n",
       "  <thead>\n",
       "    <tr style=\"text-align: right;\">\n",
       "      <th></th>\n",
       "      <th>Question</th>\n",
       "      <th>Segment Type</th>\n",
       "      <th>Segment Description</th>\n",
       "      <th>Answer</th>\n",
       "      <th>Count</th>\n",
       "      <th>Percentage</th>\n",
       "    </tr>\n",
       "  </thead>\n",
       "  <tbody>\n",
       "    <tr>\n",
       "      <th>20</th>\n",
       "      <td>What social platform has influenced your onlin...</td>\n",
       "      <td>University</td>\n",
       "      <td>University of Delaware</td>\n",
       "      <td>Facebook</td>\n",
       "      <td>1</td>\n",
       "      <td>0.333</td>\n",
       "    </tr>\n",
       "    <tr>\n",
       "      <th>21</th>\n",
       "      <td>What social platform has influenced your onlin...</td>\n",
       "      <td>University</td>\n",
       "      <td>University of Delaware</td>\n",
       "      <td>Instagram</td>\n",
       "      <td>1</td>\n",
       "      <td>0.333</td>\n",
       "    </tr>\n",
       "    <tr>\n",
       "      <th>22</th>\n",
       "      <td>What social platform has influenced your onlin...</td>\n",
       "      <td>University</td>\n",
       "      <td>University of Delaware</td>\n",
       "      <td>Snapchat</td>\n",
       "      <td>0</td>\n",
       "      <td>0.000</td>\n",
       "    </tr>\n",
       "    <tr>\n",
       "      <th>23</th>\n",
       "      <td>What social platform has influenced your onlin...</td>\n",
       "      <td>University</td>\n",
       "      <td>University of Delaware</td>\n",
       "      <td>Twitter</td>\n",
       "      <td>0</td>\n",
       "      <td>0.000</td>\n",
       "    </tr>\n",
       "    <tr>\n",
       "      <th>24</th>\n",
       "      <td>What social platform has influenced your onlin...</td>\n",
       "      <td>University</td>\n",
       "      <td>University of Delaware</td>\n",
       "      <td>None</td>\n",
       "      <td>1</td>\n",
       "      <td>0.333</td>\n",
       "    </tr>\n",
       "    <tr>\n",
       "      <th>...</th>\n",
       "      <td>...</td>\n",
       "      <td>...</td>\n",
       "      <td>...</td>\n",
       "      <td>...</td>\n",
       "      <td>...</td>\n",
       "      <td>...</td>\n",
       "    </tr>\n",
       "    <tr>\n",
       "      <th>885</th>\n",
       "      <td>What social platform has influenced your onlin...</td>\n",
       "      <td>University</td>\n",
       "      <td>Shippensburg University</td>\n",
       "      <td>Facebook</td>\n",
       "      <td>0</td>\n",
       "      <td>0.000</td>\n",
       "    </tr>\n",
       "    <tr>\n",
       "      <th>886</th>\n",
       "      <td>What social platform has influenced your onlin...</td>\n",
       "      <td>University</td>\n",
       "      <td>Shippensburg University</td>\n",
       "      <td>Instagram</td>\n",
       "      <td>0</td>\n",
       "      <td>0.000</td>\n",
       "    </tr>\n",
       "    <tr>\n",
       "      <th>887</th>\n",
       "      <td>What social platform has influenced your onlin...</td>\n",
       "      <td>University</td>\n",
       "      <td>Shippensburg University</td>\n",
       "      <td>Snapchat</td>\n",
       "      <td>0</td>\n",
       "      <td>0.000</td>\n",
       "    </tr>\n",
       "    <tr>\n",
       "      <th>888</th>\n",
       "      <td>What social platform has influenced your onlin...</td>\n",
       "      <td>University</td>\n",
       "      <td>Shippensburg University</td>\n",
       "      <td>Twitter</td>\n",
       "      <td>1</td>\n",
       "      <td>1.000</td>\n",
       "    </tr>\n",
       "    <tr>\n",
       "      <th>889</th>\n",
       "      <td>What social platform has influenced your onlin...</td>\n",
       "      <td>University</td>\n",
       "      <td>Shippensburg University</td>\n",
       "      <td>None</td>\n",
       "      <td>0</td>\n",
       "      <td>0.000</td>\n",
       "    </tr>\n",
       "  </tbody>\n",
       "</table>\n",
       "<p>685 rows × 6 columns</p>\n",
       "</div>"
      ],
      "text/plain": [
       "                                              Question Segment Type  \\\n",
       "20   What social platform has influenced your onlin...   University   \n",
       "21   What social platform has influenced your onlin...   University   \n",
       "22   What social platform has influenced your onlin...   University   \n",
       "23   What social platform has influenced your onlin...   University   \n",
       "24   What social platform has influenced your onlin...   University   \n",
       "..                                                 ...          ...   \n",
       "885  What social platform has influenced your onlin...   University   \n",
       "886  What social platform has influenced your onlin...   University   \n",
       "887  What social platform has influenced your onlin...   University   \n",
       "888  What social platform has influenced your onlin...   University   \n",
       "889  What social platform has influenced your onlin...   University   \n",
       "\n",
       "         Segment Description     Answer  Count  Percentage  \n",
       "20    University of Delaware   Facebook      1       0.333  \n",
       "21    University of Delaware  Instagram      1       0.333  \n",
       "22    University of Delaware   Snapchat      0       0.000  \n",
       "23    University of Delaware    Twitter      0       0.000  \n",
       "24    University of Delaware       None      1       0.333  \n",
       "..                       ...        ...    ...         ...  \n",
       "885  Shippensburg University   Facebook      0       0.000  \n",
       "886  Shippensburg University  Instagram      0       0.000  \n",
       "887  Shippensburg University   Snapchat      0       0.000  \n",
       "888  Shippensburg University    Twitter      1       1.000  \n",
       "889  Shippensburg University       None      0       0.000  \n",
       "\n",
       "[685 rows x 6 columns]"
      ]
     },
     "execution_count": 19,
     "metadata": {},
     "output_type": "execute_result"
    }
   ],
   "source": [
    "df[df['Segment Description'].str.contains('University')] "
   ]
  },
  {
   "cell_type": "markdown",
   "id": "fe38e544",
   "metadata": {},
   "source": [
    "## TOTAL NO OF  ANSWER FOR WHICH PERCENTAGE IS LESS THAN 1  "
   ]
  },
  {
   "cell_type": "code",
   "execution_count": 20,
   "id": "6d137540",
   "metadata": {},
   "outputs": [
    {
     "data": {
      "text/plain": [
       "Snapchat     288\n",
       "Twitter      280\n",
       "Facebook     276\n",
       "Instagram    256\n",
       "None         247\n",
       "Name: Answer, dtype: int64"
      ]
     },
     "execution_count": 20,
     "metadata": {},
     "output_type": "execute_result"
    }
   ],
   "source": [
    "df[df.Percentage < 1].Answer.value_counts()\n"
   ]
  },
  {
   "cell_type": "markdown",
   "id": "1618eb90",
   "metadata": {},
   "source": [
    "## TOTAL NO OF SEGMENT DESCRIPTION FOR WHICH PERCENTAGE IS  1"
   ]
  },
  {
   "cell_type": "code",
   "execution_count": 21,
   "id": "cce023dc",
   "metadata": {},
   "outputs": [
    {
     "data": {
      "text/plain": [
       "Web                                1\n",
       "University of California, Davis    1\n",
       "Azusa Pacific University           1\n",
       "University of West Georgia         1\n",
       "Newcastle University               1\n",
       "                                  ..\n",
       "Whatsgoodly University             1\n",
       "University of Nebraska             1\n",
       "University of Montana              1\n",
       "University of Central Florida      1\n",
       "Are you a? Student Trekker         1\n",
       "Name: Segment Description, Length: 103, dtype: int64"
      ]
     },
     "execution_count": 21,
     "metadata": {},
     "output_type": "execute_result"
    }
   ],
   "source": [
    "df[df.Percentage == 1]['Segment Description'].value_counts()"
   ]
  },
  {
   "cell_type": "code",
   "execution_count": 22,
   "id": "bbe745fa",
   "metadata": {},
   "outputs": [
    {
     "data": {
      "text/plain": [
       "1347"
      ]
     },
     "execution_count": 22,
     "metadata": {},
     "output_type": "execute_result"
    }
   ],
   "source": [
    "df[df.Percentage < 1]['Segment Type'].count()\n"
   ]
  },
  {
   "cell_type": "markdown",
   "id": "6cc6af06",
   "metadata": {},
   "source": [
    "## show all the records of maximum segment type"
   ]
  },
  {
   "cell_type": "code",
   "execution_count": 24,
   "id": "806e137e",
   "metadata": {},
   "outputs": [
    {
     "data": {
      "text/html": [
       "<div>\n",
       "<style scoped>\n",
       "    .dataframe tbody tr th:only-of-type {\n",
       "        vertical-align: middle;\n",
       "    }\n",
       "\n",
       "    .dataframe tbody tr th {\n",
       "        vertical-align: top;\n",
       "    }\n",
       "\n",
       "    .dataframe thead th {\n",
       "        text-align: right;\n",
       "    }\n",
       "</style>\n",
       "<table border=\"1\" class=\"dataframe\">\n",
       "  <thead>\n",
       "    <tr style=\"text-align: right;\">\n",
       "      <th></th>\n",
       "      <th>Question</th>\n",
       "      <th>Segment Type</th>\n",
       "      <th>Segment Description</th>\n",
       "      <th>Answer</th>\n",
       "      <th>Count</th>\n",
       "      <th>Percentage</th>\n",
       "    </tr>\n",
       "  </thead>\n",
       "  <tbody>\n",
       "    <tr>\n",
       "      <th>0</th>\n",
       "      <td>What social platform has influenced your onlin...</td>\n",
       "      <td>Mobile</td>\n",
       "      <td>Global results</td>\n",
       "      <td>Facebook</td>\n",
       "      <td>548</td>\n",
       "      <td>0.205</td>\n",
       "    </tr>\n",
       "    <tr>\n",
       "      <th>1</th>\n",
       "      <td>What social platform has influenced your onlin...</td>\n",
       "      <td>Mobile</td>\n",
       "      <td>Global results</td>\n",
       "      <td>Instagram</td>\n",
       "      <td>916</td>\n",
       "      <td>0.342</td>\n",
       "    </tr>\n",
       "  </tbody>\n",
       "</table>\n",
       "</div>"
      ],
      "text/plain": [
       "                                            Question Segment Type  \\\n",
       "0  What social platform has influenced your onlin...       Mobile   \n",
       "1  What social platform has influenced your onlin...       Mobile   \n",
       "\n",
       "  Segment Description     Answer  Count  Percentage  \n",
       "0      Global results   Facebook    548       0.205  \n",
       "1      Global results  Instagram    916       0.342  "
      ]
     },
     "execution_count": 24,
     "metadata": {},
     "output_type": "execute_result"
    }
   ],
   "source": [
    "df.head(2)"
   ]
  },
  {
   "cell_type": "code",
   "execution_count": 33,
   "id": "b0d008c2",
   "metadata": {},
   "outputs": [
    {
     "data": {
      "text/html": [
       "<div>\n",
       "<style scoped>\n",
       "    .dataframe tbody tr th:only-of-type {\n",
       "        vertical-align: middle;\n",
       "    }\n",
       "\n",
       "    .dataframe tbody tr th {\n",
       "        vertical-align: top;\n",
       "    }\n",
       "\n",
       "    .dataframe thead th {\n",
       "        text-align: right;\n",
       "    }\n",
       "</style>\n",
       "<table border=\"1\" class=\"dataframe\">\n",
       "  <thead>\n",
       "    <tr style=\"text-align: right;\">\n",
       "      <th></th>\n",
       "      <th>Question</th>\n",
       "      <th>Segment Description</th>\n",
       "      <th>Answer</th>\n",
       "      <th>Count</th>\n",
       "      <th>Percentage</th>\n",
       "    </tr>\n",
       "    <tr>\n",
       "      <th>Segment Type</th>\n",
       "      <th></th>\n",
       "      <th></th>\n",
       "      <th></th>\n",
       "      <th></th>\n",
       "      <th></th>\n",
       "    </tr>\n",
       "  </thead>\n",
       "  <tbody>\n",
       "    <tr>\n",
       "      <th>Custom</th>\n",
       "      <td>What social platform has influenced your onlin...</td>\n",
       "      <td>your zodiac sign? Virgo (Aug 23 - Sep 22)</td>\n",
       "      <td>Twitter</td>\n",
       "      <td>820</td>\n",
       "      <td>1.000</td>\n",
       "    </tr>\n",
       "    <tr>\n",
       "      <th>Gender</th>\n",
       "      <td>What social platform has influenced your onlin...</td>\n",
       "      <td>Male voters</td>\n",
       "      <td>Twitter</td>\n",
       "      <td>678</td>\n",
       "      <td>0.480</td>\n",
       "    </tr>\n",
       "    <tr>\n",
       "      <th>Mobile</th>\n",
       "      <td>What social platform has influenced your onlin...</td>\n",
       "      <td>Global results</td>\n",
       "      <td>Twitter</td>\n",
       "      <td>947</td>\n",
       "      <td>0.354</td>\n",
       "    </tr>\n",
       "    <tr>\n",
       "      <th>University</th>\n",
       "      <td>What social platform has influenced your onlin...</td>\n",
       "      <td>Wisconsin HS</td>\n",
       "      <td>Twitter</td>\n",
       "      <td>95</td>\n",
       "      <td>1.000</td>\n",
       "    </tr>\n",
       "    <tr>\n",
       "      <th>Web</th>\n",
       "      <td>What social platform has influenced your onlin...</td>\n",
       "      <td>Web</td>\n",
       "      <td>Twitter</td>\n",
       "      <td>2</td>\n",
       "      <td>1.000</td>\n",
       "    </tr>\n",
       "  </tbody>\n",
       "</table>\n",
       "</div>"
      ],
      "text/plain": [
       "                                                       Question  \\\n",
       "Segment Type                                                      \n",
       "Custom        What social platform has influenced your onlin...   \n",
       "Gender        What social platform has influenced your onlin...   \n",
       "Mobile        What social platform has influenced your onlin...   \n",
       "University    What social platform has influenced your onlin...   \n",
       "Web           What social platform has influenced your onlin...   \n",
       "\n",
       "                                    Segment Description   Answer  Count  \\\n",
       "Segment Type                                                              \n",
       "Custom        your zodiac sign? Virgo (Aug 23 - Sep 22)  Twitter    820   \n",
       "Gender                                      Male voters  Twitter    678   \n",
       "Mobile                                   Global results  Twitter    947   \n",
       "University                                 Wisconsin HS  Twitter     95   \n",
       "Web                                                 Web  Twitter      2   \n",
       "\n",
       "              Percentage  \n",
       "Segment Type              \n",
       "Custom             1.000  \n",
       "Gender             0.480  \n",
       "Mobile             0.354  \n",
       "University         1.000  \n",
       "Web                1.000  "
      ]
     },
     "execution_count": 33,
     "metadata": {},
     "output_type": "execute_result"
    }
   ],
   "source": [
    "df.groupby(['Segment Type']).max()"
   ]
  },
  {
   "cell_type": "markdown",
   "id": "453597fd",
   "metadata": {},
   "source": [
    "## show all the records where count id greater than 500 and segment type is mobile "
   ]
  },
  {
   "cell_type": "code",
   "execution_count": 34,
   "id": "08c90460",
   "metadata": {},
   "outputs": [
    {
     "data": {
      "text/html": [
       "<div>\n",
       "<style scoped>\n",
       "    .dataframe tbody tr th:only-of-type {\n",
       "        vertical-align: middle;\n",
       "    }\n",
       "\n",
       "    .dataframe tbody tr th {\n",
       "        vertical-align: top;\n",
       "    }\n",
       "\n",
       "    .dataframe thead th {\n",
       "        text-align: right;\n",
       "    }\n",
       "</style>\n",
       "<table border=\"1\" class=\"dataframe\">\n",
       "  <thead>\n",
       "    <tr style=\"text-align: right;\">\n",
       "      <th></th>\n",
       "      <th>Question</th>\n",
       "      <th>Segment Type</th>\n",
       "      <th>Segment Description</th>\n",
       "      <th>Answer</th>\n",
       "      <th>Count</th>\n",
       "      <th>Percentage</th>\n",
       "    </tr>\n",
       "  </thead>\n",
       "  <tbody>\n",
       "    <tr>\n",
       "      <th>0</th>\n",
       "      <td>What social platform has influenced your onlin...</td>\n",
       "      <td>Mobile</td>\n",
       "      <td>Global results</td>\n",
       "      <td>Facebook</td>\n",
       "      <td>548</td>\n",
       "      <td>0.205</td>\n",
       "    </tr>\n",
       "  </tbody>\n",
       "</table>\n",
       "</div>"
      ],
      "text/plain": [
       "                                            Question Segment Type  \\\n",
       "0  What social platform has influenced your onlin...       Mobile   \n",
       "\n",
       "  Segment Description    Answer  Count  Percentage  \n",
       "0      Global results  Facebook    548       0.205  "
      ]
     },
     "execution_count": 34,
     "metadata": {},
     "output_type": "execute_result"
    }
   ],
   "source": [
    "df.head(1)"
   ]
  },
  {
   "cell_type": "code",
   "execution_count": 96,
   "id": "0eab4107",
   "metadata": {},
   "outputs": [
    {
     "data": {
      "text/html": [
       "<div>\n",
       "<style scoped>\n",
       "    .dataframe tbody tr th:only-of-type {\n",
       "        vertical-align: middle;\n",
       "    }\n",
       "\n",
       "    .dataframe tbody tr th {\n",
       "        vertical-align: top;\n",
       "    }\n",
       "\n",
       "    .dataframe thead th {\n",
       "        text-align: right;\n",
       "    }\n",
       "</style>\n",
       "<table border=\"1\" class=\"dataframe\">\n",
       "  <thead>\n",
       "    <tr style=\"text-align: right;\">\n",
       "      <th></th>\n",
       "      <th>Question</th>\n",
       "      <th>Segment Type</th>\n",
       "      <th>Segment Description</th>\n",
       "      <th>Answer</th>\n",
       "      <th>Count</th>\n",
       "      <th>Percentage</th>\n",
       "    </tr>\n",
       "  </thead>\n",
       "  <tbody>\n",
       "    <tr>\n",
       "      <th>0</th>\n",
       "      <td>What social platform has influenced your onlin...</td>\n",
       "      <td>Mobile</td>\n",
       "      <td>Global results</td>\n",
       "      <td>Facebook</td>\n",
       "      <td>548</td>\n",
       "      <td>0.205</td>\n",
       "    </tr>\n",
       "    <tr>\n",
       "      <th>1</th>\n",
       "      <td>What social platform has influenced your onlin...</td>\n",
       "      <td>Mobile</td>\n",
       "      <td>Global results</td>\n",
       "      <td>Instagram</td>\n",
       "      <td>916</td>\n",
       "      <td>0.342</td>\n",
       "    </tr>\n",
       "    <tr>\n",
       "      <th>4</th>\n",
       "      <td>What social platform has influenced your onlin...</td>\n",
       "      <td>Mobile</td>\n",
       "      <td>Global results</td>\n",
       "      <td>None</td>\n",
       "      <td>947</td>\n",
       "      <td>0.354</td>\n",
       "    </tr>\n",
       "  </tbody>\n",
       "</table>\n",
       "</div>"
      ],
      "text/plain": [
       "                                            Question Segment Type  \\\n",
       "0  What social platform has influenced your onlin...       Mobile   \n",
       "1  What social platform has influenced your onlin...       Mobile   \n",
       "4  What social platform has influenced your onlin...       Mobile   \n",
       "\n",
       "  Segment Description     Answer  Count  Percentage  \n",
       "0      Global results   Facebook    548       0.205  \n",
       "1      Global results  Instagram    916       0.342  \n",
       "4      Global results       None    947       0.354  "
      ]
     },
     "execution_count": 96,
     "metadata": {},
     "output_type": "execute_result"
    }
   ],
   "source": [
    "df[(df['Count']>500) & (df['Segment Type']=='Mobile')]"
   ]
  },
  {
   "cell_type": "markdown",
   "id": "069bdad8",
   "metadata": {},
   "source": [
    "## show all the records where percentage is less than 0.3 and segment type is custom and answer is facebook"
   ]
  },
  {
   "cell_type": "code",
   "execution_count": 99,
   "id": "4ab02476",
   "metadata": {},
   "outputs": [
    {
     "data": {
      "text/html": [
       "<div>\n",
       "<style scoped>\n",
       "    .dataframe tbody tr th:only-of-type {\n",
       "        vertical-align: middle;\n",
       "    }\n",
       "\n",
       "    .dataframe tbody tr th {\n",
       "        vertical-align: top;\n",
       "    }\n",
       "\n",
       "    .dataframe thead th {\n",
       "        text-align: right;\n",
       "    }\n",
       "</style>\n",
       "<table border=\"1\" class=\"dataframe\">\n",
       "  <thead>\n",
       "    <tr style=\"text-align: right;\">\n",
       "      <th></th>\n",
       "      <th>Question</th>\n",
       "      <th>Segment Type</th>\n",
       "      <th>Segment Description</th>\n",
       "      <th>Answer</th>\n",
       "      <th>Count</th>\n",
       "      <th>Percentage</th>\n",
       "    </tr>\n",
       "  </thead>\n",
       "  <tbody>\n",
       "    <tr>\n",
       "      <th>890</th>\n",
       "      <td>What social platform has influenced your onlin...</td>\n",
       "      <td>Custom</td>\n",
       "      <td>guys, 5'5\" girls) Tall</td>\n",
       "      <td>Facebook</td>\n",
       "      <td>54</td>\n",
       "      <td>0.184</td>\n",
       "    </tr>\n",
       "    <tr>\n",
       "      <th>895</th>\n",
       "      <td>What social platform has influenced your onlin...</td>\n",
       "      <td>Custom</td>\n",
       "      <td>guys, 5'5\" girls) Medium (± 3 inches)</td>\n",
       "      <td>Facebook</td>\n",
       "      <td>95</td>\n",
       "      <td>0.153</td>\n",
       "    </tr>\n",
       "    <tr>\n",
       "      <th>900</th>\n",
       "      <td>What social platform has influenced your onlin...</td>\n",
       "      <td>Custom</td>\n",
       "      <td>guys, 5'5\" girls) Short</td>\n",
       "      <td>Facebook</td>\n",
       "      <td>40</td>\n",
       "      <td>0.180</td>\n",
       "    </tr>\n",
       "    <tr>\n",
       "      <th>905</th>\n",
       "      <td>What social platform has influenced your onlin...</td>\n",
       "      <td>Custom</td>\n",
       "      <td>or private school? Private</td>\n",
       "      <td>Facebook</td>\n",
       "      <td>61</td>\n",
       "      <td>0.169</td>\n",
       "    </tr>\n",
       "    <tr>\n",
       "      <th>910</th>\n",
       "      <td>What social platform has influenced your onlin...</td>\n",
       "      <td>Custom</td>\n",
       "      <td>games a lot? Yes, console mostly</td>\n",
       "      <td>Facebook</td>\n",
       "      <td>20</td>\n",
       "      <td>0.135</td>\n",
       "    </tr>\n",
       "    <tr>\n",
       "      <th>...</th>\n",
       "      <td>...</td>\n",
       "      <td>...</td>\n",
       "      <td>...</td>\n",
       "      <td>...</td>\n",
       "      <td>...</td>\n",
       "      <td>...</td>\n",
       "    </tr>\n",
       "    <tr>\n",
       "      <th>1425</th>\n",
       "      <td>What social platform has influenced your onlin...</td>\n",
       "      <td>Custom</td>\n",
       "      <td>What's your GPA? Above 4.0 😏</td>\n",
       "      <td>Facebook</td>\n",
       "      <td>19</td>\n",
       "      <td>0.131</td>\n",
       "    </tr>\n",
       "    <tr>\n",
       "      <th>1430</th>\n",
       "      <td>What social platform has influenced your onlin...</td>\n",
       "      <td>Custom</td>\n",
       "      <td>Graduation Year 2019</td>\n",
       "      <td>Facebook</td>\n",
       "      <td>221</td>\n",
       "      <td>0.262</td>\n",
       "    </tr>\n",
       "    <tr>\n",
       "      <th>1435</th>\n",
       "      <td>What social platform has influenced your onlin...</td>\n",
       "      <td>Custom</td>\n",
       "      <td>Graduation Year 2020</td>\n",
       "      <td>Facebook</td>\n",
       "      <td>74</td>\n",
       "      <td>0.155</td>\n",
       "    </tr>\n",
       "    <tr>\n",
       "      <th>1440</th>\n",
       "      <td>What social platform has influenced your onlin...</td>\n",
       "      <td>Custom</td>\n",
       "      <td>closely identify as? White</td>\n",
       "      <td>Facebook</td>\n",
       "      <td>352</td>\n",
       "      <td>0.224</td>\n",
       "    </tr>\n",
       "    <tr>\n",
       "      <th>1445</th>\n",
       "      <td>What social platform has influenced your onlin...</td>\n",
       "      <td>Custom</td>\n",
       "      <td>Sexual orientation? Straight</td>\n",
       "      <td>Facebook</td>\n",
       "      <td>215</td>\n",
       "      <td>0.180</td>\n",
       "    </tr>\n",
       "  </tbody>\n",
       "</table>\n",
       "<p>108 rows × 6 columns</p>\n",
       "</div>"
      ],
      "text/plain": [
       "                                               Question Segment Type  \\\n",
       "890   What social platform has influenced your onlin...       Custom   \n",
       "895   What social platform has influenced your onlin...       Custom   \n",
       "900   What social platform has influenced your onlin...       Custom   \n",
       "905   What social platform has influenced your onlin...       Custom   \n",
       "910   What social platform has influenced your onlin...       Custom   \n",
       "...                                                 ...          ...   \n",
       "1425  What social platform has influenced your onlin...       Custom   \n",
       "1430  What social platform has influenced your onlin...       Custom   \n",
       "1435  What social platform has influenced your onlin...       Custom   \n",
       "1440  What social platform has influenced your onlin...       Custom   \n",
       "1445  What social platform has influenced your onlin...       Custom   \n",
       "\n",
       "                        Segment Description    Answer  Count  Percentage  \n",
       "890                  guys, 5'5\" girls) Tall  Facebook     54       0.184  \n",
       "895   guys, 5'5\" girls) Medium (± 3 inches)  Facebook     95       0.153  \n",
       "900                 guys, 5'5\" girls) Short  Facebook     40       0.180  \n",
       "905              or private school? Private  Facebook     61       0.169  \n",
       "910        games a lot? Yes, console mostly  Facebook     20       0.135  \n",
       "...                                     ...       ...    ...         ...  \n",
       "1425           What's your GPA? Above 4.0 😏  Facebook     19       0.131  \n",
       "1430                   Graduation Year 2019  Facebook    221       0.262  \n",
       "1435                   Graduation Year 2020  Facebook     74       0.155  \n",
       "1440             closely identify as? White  Facebook    352       0.224  \n",
       "1445           Sexual orientation? Straight  Facebook    215       0.180  \n",
       "\n",
       "[108 rows x 6 columns]"
      ]
     },
     "execution_count": 99,
     "metadata": {},
     "output_type": "execute_result"
    }
   ],
   "source": [
    "df[(df['Percentage']<0.300) & (df['Segment Type']=='Custom') & (df['Answer']=='Facebook')]"
   ]
  },
  {
   "cell_type": "code",
   "execution_count": null,
   "id": "02dc7d26",
   "metadata": {},
   "outputs": [],
   "source": []
  }
 ],
 "metadata": {
  "kernelspec": {
   "display_name": "Python 3 (ipykernel)",
   "language": "python",
   "name": "python3"
  },
  "language_info": {
   "codemirror_mode": {
    "name": "ipython",
    "version": 3
   },
   "file_extension": ".py",
   "mimetype": "text/x-python",
   "name": "python",
   "nbconvert_exporter": "python",
   "pygments_lexer": "ipython3",
   "version": "3.8.10"
  }
 },
 "nbformat": 4,
 "nbformat_minor": 5
}
